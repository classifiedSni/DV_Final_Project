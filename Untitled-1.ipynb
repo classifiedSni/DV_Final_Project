{
 "cells": [
  {
   "cell_type": "code",
   "execution_count": null,
   "id": "56c350d1",
   "metadata": {},
   "outputs": [
    {
     "name": "stdout",
     "output_type": "stream",
     "text": [
      "✅ Preprocessing Complete! Final dataset shape: (102040, 11)\n",
      "                               time  latitude  longitude  depth   mag  \\\n",
      "16 1904-04-04 10:26:00.880000+00:00    41.758     23.249   15.0  7.02   \n",
      "17 1904-04-04 10:02:34.560000+00:00    41.802     23.108   15.0  6.84   \n",
      "18 1904-06-25 21:00:38.720000+00:00    52.763    160.277   30.0  7.70   \n",
      "19 1904-06-25 14:45:39.140000+00:00    51.424    161.638   15.0  7.50   \n",
      "20 1904-08-30 11:43:20.850000+00:00    30.684    100.608   15.0  7.09   \n",
      "\n",
      "                                             place        type    Mag_Level  \\\n",
      "16               7 Km Se Of Stara Kresna, Bulgaria  earthquake  Destructive   \n",
      "17                6 Km W Of Stara Kresna, Bulgaria  earthquake       Strong   \n",
      "18  115 Km Ese Of Petropavlovsk-Kamchatsky, Russia  earthquake  Destructive   \n",
      "19   274 Km Se Of Petropavlovsk-Kamchatsky, Russia  earthquake  Destructive   \n",
      "20                   150 Km Wnw Of Kangding, China  earthquake  Destructive   \n",
      "\n",
      "    Year  Month   Country  \n",
      "16  1904      4  Bulgaria  \n",
      "17  1904      4  Bulgaria  \n",
      "18  1904      6    Russia  \n",
      "19  1904      6    Russia  \n",
      "20  1904      8     China  \n"
     ]
    }
   ],
   "source": [
    "import pandas as pd\n",
    "file_path = r'C:\\Users\\siddh\\Desktop\\DV_Final_Project\\Significant_Earthquakes.csv'\n",
    "df = pd.read_csv(file_path)\n",
    "\n",
    "#Selecting main Columns\n",
    "columns_needed = ['time', 'latitude', 'longitude', 'depth', 'mag', 'place', 'type']\n",
    "df_clean = df[columns_needed].copy()\n",
    "\n",
    "#Removing Missing Values\n",
    "df_clean.dropna(subset=['time', 'latitude', 'longitude', 'depth', 'mag'], inplace=True)\n",
    "\n",
    "df_clean['time'] = pd.to_datetime(df_clean['time'], errors='coerce')\n",
    "df_clean.dropna(subset=['time'], inplace=True)\n",
    "\n",
    "#Removing Inconsistent Values\n",
    "df_clean = df_clean[(df_clean['mag'] >= 0) & (df_clean['mag'] <= 10)]\n",
    "\n",
    "#categorize Magnitude into 3 Levels\n",
    "def categorize_magnitude(mag):\n",
    "    if mag < 4:\n",
    "        return 'Low'\n",
    "    elif 4 <= mag < 7:\n",
    "        return 'Strong'\n",
    "    else:\n",
    "        return 'Destructive'\n",
    "\n",
    "df_clean['Mag_Level'] = df_clean['mag'].apply(categorize_magnitude)\n",
    "\n",
    "#Extracting Year and Month\n",
    "df_clean['Year'] = df_clean['time'].dt.year\n",
    "df_clean['Month'] = df_clean['time'].dt.month\n",
    "df_clean['place'] = df_clean['place'].str.strip().str.title()\n",
    "df_clean['type'] = df_clean['type'].str.lower()\n",
    "\n",
    "#Optimize Data Types\n",
    "df_clean['type'] = df_clean['type'].astype('category')\n",
    "df_clean['Mag_Level'] = df_clean['Mag_Level'].astype('category')\n",
    "#Extracting Country\n",
    "df_clean['Country'] = df_clean['place'].apply(lambda x: x.split(',')[-1].strip() if pd.notnull(x) and ',' in x else 'Unknown')\n",
    "\n",
    "#Remove Duplicate Records\n",
    "df_clean.drop_duplicates(inplace=True)\n",
    "\n",
    "df_clean.to_csv(r'C:\\Users\\siddh\\Desktop\\DV_Final_Project\\Final_Earthquake_Cleaned_Dataset.csv', index=False)\n",
    "print(f\"✅ Preprocessing Complete! Final dataset shape: {df_clean.shape}\")\n",
    "print(df_clean.head())\n"
   ]
  }
 ],
 "metadata": {
  "kernelspec": {
   "display_name": "base",
   "language": "python",
   "name": "python3"
  },
  "language_info": {
   "codemirror_mode": {
    "name": "ipython",
    "version": 3
   },
   "file_extension": ".py",
   "mimetype": "text/x-python",
   "name": "python",
   "nbconvert_exporter": "python",
   "pygments_lexer": "ipython3",
   "version": "3.11.5"
  }
 },
 "nbformat": 4,
 "nbformat_minor": 5
}
